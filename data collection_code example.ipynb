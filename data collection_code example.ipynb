{
 "cells": [
  {
   "cell_type": "code",
   "execution_count": null,
   "metadata": {},
   "outputs": [],
   "source": [
    "my_path = \"my path\""
   ]
  },
  {
   "cell_type": "code",
   "execution_count": null,
   "metadata": {},
   "outputs": [],
   "source": [
    "%cd my_path"
   ]
  },
  {
   "cell_type": "markdown",
   "metadata": {},
   "source": [
    "## Packages"
   ]
  },
  {
   "cell_type": "code",
   "execution_count": null,
   "metadata": {},
   "outputs": [],
   "source": [
    "#pytangle\n",
    "import pytangle\n",
    "from pytangle.api import API\n",
    "import datetime\n",
    "from datetime import date\n",
    "from datetime import datetime\n",
    "\n",
    "token = \"my token\"\n",
    "\n",
    "#selenium\n",
    "from selenium import webdriver\n",
    "from selenium.webdriver.common.keys import Keys\n",
    "import time\n",
    "\n",
    "#login daten instagram\n",
    "with open(\"insta_credentials.txt\", \"rt\") as f:\n",
    "    login_data = f.read().split()\n",
    "\n",
    "#ct\n",
    "import pandas as pd\n",
    "import requests\n",
    "from IPython.display import clear_output \n",
    "import time\n",
    "from fake_useragent import UserAgent\n",
    "ua = UserAgent()\n",
    "import re\n",
    "import json\n",
    "import os\n",
    "import csv\n",
    "\n",
    "#email for error message\n",
    "from email.mime.multipart import MIMEMultipart\n",
    "from email.mime.text import MIMEText\n",
    "\n",
    "import smtplib\n",
    "import logging"
   ]
  },
  {
   "cell_type": "markdown",
   "metadata": {},
   "source": [
    "## Logfile"
   ]
  },
  {
   "cell_type": "code",
   "execution_count": null,
   "metadata": {},
   "outputs": [],
   "source": [
    "logging.basicConfig(filename='error_log.log', level=logging.ERROR, \n",
    "                    format='%(asctime)s %(levelname)s %(name)s %(message)s')\n",
    "logger=logging.getLogger(__name__)"
   ]
  },
  {
   "cell_type": "markdown",
   "metadata": {},
   "source": [
    "## Defining functions"
   ]
  },
  {
   "cell_type": "code",
   "execution_count": null,
   "metadata": {},
   "outputs": [],
   "source": [
    "#selenium login\n",
    "def login(input_driver):\n",
    "        driver = input_driver\n",
    "        driver.get(\"https://www.instagram.com/accounts/login\")\n",
    "        driver.implicitly_wait(5)\n",
    "        try:\n",
    "            driver.find_element_by_xpath(\"/html/body/div[2]/div/div/button[1]\").click()\n",
    "        except Exception as e:\n",
    "            pass\n",
    "        elem_cookie = driver.find_element_by_xpath('/html/body/div[4]/div/div/button[1]').click()\n",
    "        time.sleep(1) \n",
    "        elem_user = driver.find_element_by_xpath('//*[@id=\"loginForm\"]/div/div[1]/div/label/input')\n",
    "        elem_user.send_keys(login_data[0])\n",
    "        time.sleep(2)\n",
    "\n",
    "        elem_pass = driver.find_element_by_xpath('//*[@id=\"loginForm\"]/div/div[2]/div/label/input')\n",
    "        elem_pass.send_keys(login_data[1])\n",
    "        time.sleep(1)\n",
    "        \n",
    "    \n",
    "        elem_login = driver.find_element_by_xpath('//*[@id=\"loginForm\"]/div/div[3]/button/div').click()"
   ]
  },
  {
   "cell_type": "code",
   "execution_count": null,
   "metadata": {},
   "outputs": [],
   "source": [
    "driver = webdriver.Chrome(executable_path = \"my path\")\n",
    "login(driver)"
   ]
  },
  {
   "cell_type": "code",
   "execution_count": null,
   "metadata": {},
   "outputs": [],
   "source": [
    "# fetch the lists in the current dashboard\n",
    "api = API(token)\n",
    "for a_list in api.lists():\n",
    "    print(a_list)"
   ]
  },
  {
   "cell_type": "code",
   "execution_count": null,
   "metadata": {},
   "outputs": [],
   "source": [
    "today =  datetime.datetime.now()\n",
    "today.isoformat()"
   ]
  },
  {
   "cell_type": "code",
   "execution_count": null,
   "metadata": {},
   "outputs": [],
   "source": [
    "#API Post Abfrage\n",
    "def post_report(list_id, API_token):\n",
    "    api = API(API_token)\n",
    "    collected_posts = []\n",
    "    yesterday = today - datetime.timedelta(days = 1)\n",
    "    y = str(today - datetime.timedelta(days = 1))\n",
    "    for a_post in api.posts(listIds = list_id, \n",
    "                            count = -1,\n",
    "                            batchSize = 100,\n",
    "                            sortBy = 'date',\n",
    "                            startDate = yesterday.isoformat(), \n",
    "                            endDate = today.isoformat(), \n",
    "                            timeframe = None,\n",
    "                            ):\n",
    "        parsed_post = {}\n",
    "        parsed_post['id'] = a_post['id'] \n",
    "        parsed_post['platform_id'] = a_post['platformId']\n",
    "        parsed_post['date'] = a_post['date']\n",
    "        parsed_post['updated'] = a_post['updated']\n",
    "        parsed_post['type'] = a_post['type']\n",
    "        parsed_post['post_url'] = a_post['postUrl']\n",
    "        parsed_post['subscriber_count'] = a_post['subscriberCount']\n",
    "        parsed_post['language_code'] = a_post['languageCode']\n",
    "        parsed_post['score'] = a_post['score']\n",
    "        parsed_post['account_id'] = a_post['account']['id']\n",
    "        parsed_post['name'] = a_post['account']['name']\n",
    "        parsed_post['username'] = a_post['account']['handle']                                \n",
    "        parsed_post['verified'] = a_post['account']['verified']\n",
    "        parsed_post['actual_likes'] = a_post ['statistics']['actual']['favoriteCount']                               \n",
    "        parsed_post['actual_comment_count'] = a_post['statistics']['actual']['commentCount']\n",
    "        parsed_post['expected_likes'] = a_post['statistics']['expected']['favoriteCount']\n",
    "        parsed_post['expected_comment_count']= a_post['statistics']['expected']['commentCount']                              \n",
    "        collected_posts.append(parsed_post)\n",
    "        time.sleep(0.5)\n",
    "    df_ct = pd.DataFrame(collected_posts)\n",
    "    df_ct.to_csv(r\"{}/df_{}.tsv\".format(my_path, str(yesterday)[:10]), encoding = \"utf-8\", index = False, sep ='\\t') #tabs statt komma\n",
    "    \n",
    "    return df_ct"
   ]
  },
  {
   "cell_type": "markdown",
   "metadata": {},
   "source": [
    "### historical Data\n",
    "\n",
    "wird relevant, wenn wir nicht täglich Daten erheben wollen, sondern rückwirkend (zb. für das letze Jahr) Posts sammeln wollen\n"
   ]
  },
  {
   "cell_type": "code",
   "execution_count": null,
   "metadata": {},
   "outputs": [],
   "source": [
    "#API Post Abfrage\n",
    "def post_report_his(list_id, API_token):\n",
    "    api = API(API_token)\n",
    "    collected_posts = []\n",
    "    today =  datetime.datetime.now() \n",
    "\n",
    "    for a_post in api.posts(listIds = list_id, \n",
    "                            count = -1,\n",
    "                            batchSize = 100,\n",
    "                            sortBy = 'date',\n",
    "                            #startDate =  \n",
    "                            endDate = today.isoformat(), \n",
    "                            timeframe = None,\n",
    "                            ):\n",
    "        # do something with the post\n",
    "        parsed_post = {}\n",
    "        parsed_post['id'] = a_post['id'] \n",
    "        parsed_post['date'] = a_post['date']\n",
    "        parsed_post['updated'] = a_post['updated']\n",
    "        parsed_post['type'] = a_post['type']\n",
    "        parsed_post['post_url'] = a_post['postUrl']\n",
    "        parsed_post['subscriber_count'] = a_post['subscriberCount']\n",
    "        parsed_post['language_code'] = a_post['languageCode']\n",
    "        parsed_post['score'] = a_post['score']\n",
    "        parsed_post['account_id'] = a_post['account']['id']\n",
    "        parsed_post['name'] = a_post['account']['name']\n",
    "        parsed_post['username'] = a_post['account']['handle']                                \n",
    "        parsed_post['verified'] = a_post['account']['verified']\n",
    "        parsed_post['actual_likes'] = a_post ['statistics']['actual']['favoriteCount']                               \n",
    "        parsed_post['actual_comment_count'] = a_post['statistics']['actual']['commentCount']\n",
    "        parsed_post['expected_likes'] = a_post['statistics']['expected']['favoriteCount']\n",
    "        parsed_post['expected_comment_count']= a_post['statistics']['expected']['commentCount']                              \n",
    "        collected_posts.append(parsed_post)\n",
    "        time.sleep(0.5)\n",
    "    df_ct = pd.DataFrame(collected_posts)\n",
    "    df_ct.to_csv(\"/data/history_df.tsv\", encoding = \"utf-8\", index = False, sep ='\\t') #tabs statt komma\n",
    "    \n",
    "    return df_ct"
   ]
  },
  {
   "cell_type": "code",
   "execution_count": null,
   "metadata": {},
   "outputs": [],
   "source": [
    "#Email bei Fehlermeldung\n",
    "def error_notficiation (text, text2):\n",
    "    with open(\"Email_credentials.txt\", \"rt\") as f: #obacht: funktioniert nur mit aktuellem Dateipfad\n",
    "        login_data = f.read().split()\n",
    "    \n",
    "    s = smtplib.SMTP(host = 'mail.gmx.net', port = 587)\n",
    "    s.starttls()\n",
    "    s.login(login_data[0], login_data[1])\n",
    "    \n",
    "    error = text\n",
    "    email = \"my email\"\n",
    "    message = \"Fehlermeldung: {} with {}\".format(error, text2)\n",
    "\n",
    "    msg = MIMEMultipart()       # create a message\n",
    "\n",
    "    # setup the parameters of the message\n",
    "    msg['From'] = \"my email\"\n",
    "    msg['To'] = email\n",
    "    msg['Subject'] = \"Unexpected Error\"\n",
    "\n",
    "    # add in the message body\n",
    "    msg.attach(MIMEText(message, 'plain'))\n",
    "\n",
    "    # send the message va the server set up earlier.\n",
    "    s.send_message(msg)"
   ]
  },
  {
   "cell_type": "code",
   "execution_count": null,
   "metadata": {},
   "outputs": [],
   "source": [
    "#error counter\n",
    "def error_counter(post_url):\n",
    "    error_df = pd.read_csv(r\"{}/error_df.tsv\".format(my_path), encoding = \"utf-8\", sep ='\\t')\n",
    "    \n",
    "    #if (! post_urlpost_url not in error_df[\"post_url\"].tolist()():\n",
    "    if post_url not in error_df[\"post_url\"].tolist(): #neu\n",
    "        error_df_new = error_df.append({'post_url':post_url,'attempt': 1,'report_date': str(today)}, ignore_index= True)\n",
    "        error_df_new.to_csv(r\"{}/data/error_df.tsv\".format(my_path), \n",
    "                        encoding = \"utf-8\", \n",
    "                        sep = '\\t', \n",
    "                        index = False)\n",
    "    elif int(error_df.loc[error_df[\"post_url\"] == post_url, \"attempt\"].item()) <= 3:\n",
    "        error_df.loc[error_df[\"post_url\"] == post_url, \"attempt\"] = \\\n",
    "        error_df.loc[error_df[\"post_url\"] == post_url, \"attempt\"] + 1 \n",
    "        error_df = error_df.to_csv(r\"{}/error_df.tsv\".format(my_path), \n",
    "                         encoding = \"utf-8\", \n",
    "                         sep = '\\t', \n",
    "                         index = False)\n",
    "    \n",
    "    else:\n",
    "        print(\"already tried 3 times\")\n"
   ]
  },
  {
   "cell_type": "code",
   "execution_count": null,
   "metadata": {},
   "outputs": [],
   "source": [
    "## get report\n",
    "\n",
    "def report_df():\n",
    "    today = datetime.datetime.now()\n",
    "    print(str(today))\n",
    "    yesterday = today - datetime.timedelta(days = 1)\n",
    "    print(today)\n",
    "    #selenium\n",
    "    print(\"login to Instagram\")\n",
    "    global driver \n",
    "    driver = webdriver.Chrome(executable_path = \"{}/chromedriver\".format(my_path))\n",
    "    time.sleep(2)\n",
    "    login(driver)\n",
    "    counter = 1\n",
    "    #post_report\n",
    "    print(\"Request Report\")\n",
    "    df_report = post_report( \"my list\", token)\n",
    "    return df_report"
   ]
  },
  {
   "cell_type": "markdown",
   "metadata": {},
   "source": [
    "## schedule"
   ]
  },
  {
   "cell_type": "code",
   "execution_count": null,
   "metadata": {},
   "outputs": [],
   "source": [
    "import schedule"
   ]
  },
  {
   "cell_type": "code",
   "execution_count": null,
   "metadata": {},
   "outputs": [],
   "source": [
    "#define scheduler\n",
    "schedule1 = schedule.Scheduler()\n",
    "\n",
    "\n",
    "#run scheduler\n",
    "schedule1.every().day.at(\"09:00\").do(report_df)\n",
    "\n",
    "\n",
    "while True:\n",
    "    schedule1.run_pending()\n",
    "    time.sleep(1) "
   ]
  }
 ],
 "metadata": {
  "kernelspec": {
   "display_name": "Python 3",
   "language": "python",
   "name": "python3"
  },
  "language_info": {
   "codemirror_mode": {
    "name": "ipython",
    "version": 3
   },
   "file_extension": ".py",
   "mimetype": "text/x-python",
   "name": "python",
   "nbconvert_exporter": "python",
   "pygments_lexer": "ipython3",
   "version": "3.8.5"
  }
 },
 "nbformat": 4,
 "nbformat_minor": 4
}
